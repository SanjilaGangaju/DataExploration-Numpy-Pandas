{
 "cells": [
  {
   "cell_type": "markdown",
   "id": "073b8540-3041-4fa3-9ff9-1cad4fba0d86",
   "metadata": {},
   "source": [
    "# Explore Data Arrays With NumPy"
   ]
  },
  {
   "cell_type": "code",
   "execution_count": 4,
   "id": "070493d3-5442-423f-b247-cd4c6b99810f",
   "metadata": {},
   "outputs": [
    {
     "name": "stdout",
     "output_type": "stream",
     "text": [
      "[50, 50, 47, 97, 49, 3, 53, 42, 26, 74, 82, 62, 37, 15, 70, 27, 36, 35, 48, 52, 63, 64]\n"
     ]
    }
   ],
   "source": [
    "data = [50,50,47,97,49,3,53,42,26,74,82,62,37,15,70,27,36,35,48,52,63,64]\n",
    "print(data)"
   ]
  },
  {
   "cell_type": "markdown",
   "id": "32590a03-1054-4351-87c3-9f2037ea6994",
   "metadata": {},
   "source": [
    "# Use the NumPy package for data analysis and manipulation"
   ]
  },
  {
   "cell_type": "markdown",
   "id": "a393e40d-036c-443e-9c82-f8595a6d88c9",
   "metadata": {},
   "source": [
    "# Import Numpy"
   ]
  },
  {
   "cell_type": "code",
   "execution_count": 5,
   "id": "c4dfd726-7901-42d8-9390-9ae43fc83052",
   "metadata": {},
   "outputs": [
    {
     "name": "stdout",
     "output_type": "stream",
     "text": [
      "[50 50 47 97 49  3 53 42 26 74 82 62 37 15 70 27 36 35 48 52 63 64]\n"
     ]
    }
   ],
   "source": [
    "import numpy as np\n",
    "height=np.array(data)\n",
    "print(height)"
   ]
  },
  {
   "cell_type": "markdown",
   "id": "0e5bda85-2018-4c6c-a9d0-22ac16613d94",
   "metadata": {},
   "source": [
    "# Demonstrate the difference between a list and NumPy array"
   ]
  },
  {
   "cell_type": "code",
   "execution_count": 8,
   "id": "817cea6a-01b7-4c5c-a822-cbf07001b469",
   "metadata": {},
   "outputs": [
    {
     "name": "stdout",
     "output_type": "stream",
     "text": [
      "<class 'list'> x 2: [50, 50, 47, 97, 49, 3, 53, 42, 26, 74, 82, 62, 37, 15, 70, 27, 36, 35, 48, 52, 63, 64, 50, 50, 47, 97, 49, 3, 53, 42, 26, 74, 82, 62, 37, 15, 70, 27, 36, 35, 48, 52, 63, 64]\n",
      "---\n",
      "<class 'numpy.ndarray'> x 2: [100 100  94 194  98   6 106  84  52 148 164 124  74  30 140  54  72  70\n",
      "  96 104 126 128]\n"
     ]
    }
   ],
   "source": [
    "print(type(data),'x 2:',data*2)\n",
    "print('---')\n",
    "print(type(height),'x 2:',height*2)"
   ]
  },
  {
   "cell_type": "markdown",
   "id": "ba2ab7e1-2aa7-4680-86a7-faee59055c96",
   "metadata": {},
   "source": [
    "# Look at the shape"
   ]
  },
  {
   "cell_type": "code",
   "execution_count": 9,
   "id": "47a32133-71c8-43b4-83c0-4391e60aaa2b",
   "metadata": {},
   "outputs": [
    {
     "data": {
      "text/plain": [
       "(22,)"
      ]
     },
     "execution_count": 9,
     "metadata": {},
     "output_type": "execute_result"
    }
   ],
   "source": [
    "height.shape"
   ]
  },
  {
   "cell_type": "markdown",
   "id": "29ad180c-f0b9-434f-bb9e-7ae921efd702",
   "metadata": {},
   "source": [
    "# Access individual elements using their ordinal position"
   ]
  },
  {
   "cell_type": "code",
   "execution_count": 11,
   "id": "4195a74a-acee-449e-8a1d-0ddf41a6e418",
   "metadata": {},
   "outputs": [
    {
     "data": {
      "text/plain": [
       "50"
      ]
     },
     "execution_count": 11,
     "metadata": {},
     "output_type": "execute_result"
    }
   ],
   "source": [
    "height[0]"
   ]
  },
  {
   "cell_type": "markdown",
   "id": "f68fda21-1594-476e-b8b5-a6ad5ac76f11",
   "metadata": {},
   "source": [
    "# Find the average grade"
   ]
  },
  {
   "cell_type": "code",
   "execution_count": 12,
   "id": "6218d3b9-cceb-4ab3-bada-a7484b18eb47",
   "metadata": {},
   "outputs": [
    {
     "data": {
      "text/plain": [
       "49.18181818181818"
      ]
     },
     "execution_count": 12,
     "metadata": {},
     "output_type": "execute_result"
    }
   ],
   "source": [
    "height.mean()"
   ]
  },
  {
   "cell_type": "code",
   "execution_count": null,
   "id": "45c1cbcf-a14c-4aa5-b02c-0b57afb294d1",
   "metadata": {},
   "outputs": [],
   "source": []
  }
 ],
 "metadata": {
  "kernelspec": {
   "display_name": "Python 3 (ipykernel)",
   "language": "python",
   "name": "python3"
  },
  "language_info": {
   "codemirror_mode": {
    "name": "ipython",
    "version": 3
   },
   "file_extension": ".py",
   "mimetype": "text/x-python",
   "name": "python",
   "nbconvert_exporter": "python",
   "pygments_lexer": "ipython3",
   "version": "3.11.1"
  }
 },
 "nbformat": 4,
 "nbformat_minor": 5
}
